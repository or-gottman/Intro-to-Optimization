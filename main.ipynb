{
 "cells": [
  {
   "cell_type": "markdown",
   "id": "fbe2e375",
   "metadata": {
    "id": "fbe2e375"
   },
   "source": [
    "# Introduction to Optimization - 89589 - Final Project\n",
    "## Bar-Ilan University, 2022\n",
    "## Metaheuristic Optimization Algorithms"
   ]
  },
  {
   "cell_type": "markdown",
   "id": "25107a26",
   "metadata": {
    "id": "25107a26"
   },
   "source": [
    "### Imports"
   ]
  },
  {
   "cell_type": "code",
   "execution_count": 1,
   "id": "6ad5cb73",
   "metadata": {
    "id": "6ad5cb73"
   },
   "outputs": [],
   "source": [
    "from Algorithms import HillCimbing, SimAnn, TabuSearch\n",
    "from Algorithms.utils import problemGenerator\n",
    "import numpy as np\n",
    "import matplotlib.pyplot as plt"
   ]
  },
  {
   "cell_type": "markdown",
   "id": "745d38fa",
   "metadata": {
    "id": "745d38fa"
   },
   "source": [
    "### Generate adjacency matrices"
   ]
  },
  {
   "cell_type": "code",
   "execution_count": 21,
   "id": "7fdae1e2",
   "metadata": {
    "colab": {
     "base_uri": "https://localhost:8080/"
    },
    "id": "7fdae1e2",
    "outputId": "7afa9bcf-2c47-4ab0-f026-a65e941e06c3"
   },
   "outputs": [
    {
     "name": "stdout",
     "output_type": "stream",
     "text": [
      "CPU times: user 4.17 ms, sys: 0 ns, total: 4.17 ms\n",
      "Wall time: 4.94 ms\n"
     ]
    }
   ],
   "source": [
    "%%time\n",
    "small_matrix = problemGenerator(10)\n",
    "medium_matrix = problemGenerator(25)\n",
    "large_matrix = problemGenerator(50)"
   ]
  },
  {
   "cell_type": "markdown",
   "id": "36b2731e",
   "metadata": {
    "id": "36b2731e"
   },
   "source": [
    "These are adjacency matrices, that represent graphs. \n",
    "The value of every cell (i,j) represents the cost of the edge between i and j.\n",
    "#### For illustration, this is what the small matrix looks like:"
   ]
  },
  {
   "cell_type": "code",
   "execution_count": 22,
   "id": "9f2a84d3",
   "metadata": {
    "colab": {
     "base_uri": "https://localhost:8080/"
    },
    "id": "9f2a84d3",
    "outputId": "a51dbb87-07bd-4868-adde-6636de7b5805"
   },
   "outputs": [
    {
     "name": "stdout",
     "output_type": "stream",
     "text": [
      "[[0, 48, 97, 60, 66, 83, 92, 15, 82, 70],\n",
      " [48, 0, 18, 13, 28, 21, 59, 46, 15, 14],\n",
      " [97, 18, 0, 36, 36, 86, 14, 19, 70, 28],\n",
      " [60, 13, 36, 0, 52, 87, 62, 58, 100, 99],\n",
      " [66, 28, 36, 52, 0, 72, 70, 62, 70, 44],\n",
      " [83, 21, 86, 87, 72, 0, 48, 68, 70, 18],\n",
      " [92, 59, 14, 62, 70, 48, 0, 41, 13, 71],\n",
      " [15, 46, 19, 58, 62, 68, 41, 0, 81, 81],\n",
      " [82, 15, 70, 100, 70, 70, 13, 81, 0, 83],\n",
      " [70, 14, 28, 99, 44, 18, 71, 81, 83, 0]]\n"
     ]
    }
   ],
   "source": [
    "from pprint import pprint \n",
    "pprint(small_matrix)"
   ]
  },
  {
   "cell_type": "markdown",
   "id": "c79de3e9",
   "metadata": {
    "id": "c79de3e9"
   },
   "source": [
    "## Run Algorithms"
   ]
  },
  {
   "cell_type": "markdown",
   "id": "4QHK0EEDPo_K",
   "metadata": {
    "id": "4QHK0EEDPo_K"
   },
   "source": [
    "### Running the three algorithms on small matrix"
   ]
  },
  {
   "cell_type": "code",
   "execution_count": 43,
   "id": "79e1a5ec",
   "metadata": {
    "colab": {
     "base_uri": "https://localhost:8080/"
    },
    "id": "79e1a5ec",
    "outputId": "b8ad2ffc-4aae-460d-9528-dd49ffbfd12a"
   },
   "outputs": [
    {
     "name": "stdout",
     "output_type": "stream",
     "text": [
      "Hill Climbing cost on small matrix: 327\n",
      "CPU times: user 1.89 ms, sys: 0 ns, total: 1.89 ms\n",
      "Wall time: 1.89 ms\n"
     ]
    }
   ],
   "source": [
    "%%time\n",
    "HC_result = HillCimbing.run(small_matrix)\n",
    "print(\"Hill Climbing cost on small matrix:\", HC_result[1])"
   ]
  },
  {
   "cell_type": "code",
   "execution_count": 49,
   "id": "32478a29",
   "metadata": {
    "colab": {
     "base_uri": "https://localhost:8080/"
    },
    "id": "32478a29",
    "outputId": "69d5047f-68e9-4373-e689-e7dd9c9d6db3"
   },
   "outputs": [
    {
     "name": "stdout",
     "output_type": "stream",
     "text": [
      "Simulated Annealing cost on small matrix: 294\n",
      "CPU times: user 13.3 ms, sys: 1e+03 ns, total: 13.3 ms\n",
      "Wall time: 13.2 ms\n"
     ]
    }
   ],
   "source": [
    "%%time\n",
    "SA_result = SimAnn.run(small_matrix)\n",
    "print(\"Simulated Annealing cost on small matrix:\", SA_result[1])"
   ]
  },
  {
   "cell_type": "code",
   "execution_count": 50,
   "id": "5572317c",
   "metadata": {
    "colab": {
     "base_uri": "https://localhost:8080/"
    },
    "id": "5572317c",
    "outputId": "28f97991-93dc-493c-9b76-356f537e283a"
   },
   "outputs": [
    {
     "name": "stdout",
     "output_type": "stream",
     "text": [
      "Tabu Seach cost on small matrix: 287\n",
      "CPU times: user 5.16 s, sys: 11 ms, total: 5.17 s\n",
      "Wall time: 5.18 s\n"
     ]
    }
   ],
   "source": [
    "%%time\n",
    "TS_result = TabuSearch.run(small_matrix)\n",
    "print(\"Tabu Seach cost on small matrix:\", TS_result[1])"
   ]
  },
  {
   "cell_type": "markdown",
   "id": "tNjI6ZqgQqnY",
   "metadata": {
    "id": "tNjI6ZqgQqnY"
   },
   "source": [
    "### Results on small matrix:"
   ]
  },
  {
   "cell_type": "code",
   "execution_count": 101,
   "id": "ldoPe-uAkRDB",
   "metadata": {
    "colab": {
     "base_uri": "https://localhost:8080/",
     "height": 519
    },
    "id": "ldoPe-uAkRDB",
    "outputId": "8225648b-055f-408d-cdaf-5b1585190b9e"
   },
   "outputs": [
    {
     "data": {
      "text/plain": [
       "Text(1.95, 0.1, '5.18 s')"
      ]
     },
     "execution_count": 101,
     "metadata": {},
     "output_type": "execute_result"
    },
    {
     "data": {
      "image/png": "[encoded data removed]",
      "text/plain": [
       "<Figure size 864x576 with 1 Axes>"
      ]
     },
     "metadata": {
      "needs_background": "light"
     },
     "output_type": "display_data"
    }
   ],
   "source": [
    " \n",
    "# set width of bar\n",
    "barWidth = 0.25\n",
    "fig = plt.subplots(figsize =(12, 8))\n",
    "\n",
    "small_times = [0.00189, 0.0132, 5.18]\n",
    " \n",
    "# Set position of bar on X axis\n",
    "br1 = np.arange(3)\n",
    " \n",
    "# Make the plot\n",
    "plt.bar(br1, small_times, color ='r', width = barWidth,\n",
    "        edgecolor ='grey', label ='Small Matrix')\n",
    " \n",
    "# Adding Xticks\n",
    "plt.xlabel('Algorithm', fontweight ='bold', fontsize = 15)\n",
    "plt.ylabel('Seconds', fontweight ='bold', fontsize = 15)\n",
    "plt.xticks([r for r in range(3)],\n",
    "        ['Hill Climbing', 'Simulated Annealing', 'Tabu Search'])\n",
    "plt.text(-0.08, 0.1, \"0.00189 s\")\n",
    "plt.text(0.92, 0.1, \"0.0132 s\")\n",
    "plt.text(1.95, 0.1, \"5.18 s\")"
   ]
  },
  {
   "cell_type": "code",
   "execution_count": 99,
   "id": "38-V_g1eQtFq",
   "metadata": {
    "colab": {
     "base_uri": "https://localhost:8080/",
     "height": 502
    },
    "id": "38-V_g1eQtFq",
    "outputId": "bb31638d-ee44-48c4-b32b-4fbb2b064871"
   },
   "outputs": [
    {
     "data": {
      "image/png": "[encoded data removed]",
      "text/plain": [
       "<Figure size 864x576 with 1 Axes>"
      ]
     },
     "metadata": {
      "needs_background": "light"
     },
     "output_type": "display_data"
    }
   ],
   "source": [
    "# set width of bar\n",
    "barWidth = 0.25\n",
    "fig = plt.subplots(figsize =(12, 8))\n",
    "\n",
    "small_scores = [327, 294, 287]\n",
    "br1 = np.arange(3)\n",
    "plt.bar(br1, small_scores, color ='r', width = barWidth,\n",
    "        edgecolor ='grey', label ='Small Matrix')\n",
    "plt.xlabel('Algorithm', fontweight ='bold', fontsize = 15)\n",
    "plt.ylabel('Cost', fontweight ='bold', fontsize = 15)\n",
    "plt.xticks([r for r in range(3)],\n",
    "        ['Hill Climbing', 'Simulated Annealing', 'Tabu Search'])\n",
    "plt.text(-0.03, 3, \"327\")\n",
    "plt.text(0.97, 3, \"294\")\n",
    "plt.text(1.97, 3, \"287\")\n",
    "\n",
    "plt.legend()\n",
    "plt.show()"
   ]
  },
  {
   "cell_type": "markdown",
   "id": "jQgbInJQQwHK",
   "metadata": {
    "id": "jQgbInJQQwHK"
   },
   "source": [
    "### Running the three algorithms on medium matrix"
   ]
  },
  {
   "cell_type": "code",
   "execution_count": 51,
   "id": "TPZ8h27uQxFm",
   "metadata": {
    "colab": {
     "base_uri": "https://localhost:8080/"
    },
    "id": "TPZ8h27uQxFm",
    "outputId": "4abea22d-17fc-44d1-dfa0-2db52abaeeef"
   },
   "outputs": [
    {
     "name": "stdout",
     "output_type": "stream",
     "text": [
      "Hill Climbing cost on medium matrix: 612\n",
      "CPU times: user 21.4 ms, sys: 0 ns, total: 21.4 ms\n",
      "Wall time: 24.2 ms\n"
     ]
    }
   ],
   "source": [
    "%%time\n",
    "HC_result_medium = HillCimbing.run(medium_matrix)\n",
    "print(\"Hill Climbing cost on medium matrix:\", HC_result_medium[1])"
   ]
  },
  {
   "cell_type": "code",
   "execution_count": 52,
   "id": "T8GSGAANQ2E0",
   "metadata": {
    "colab": {
     "base_uri": "https://localhost:8080/"
    },
    "id": "T8GSGAANQ2E0",
    "outputId": "74f0b762-1585-42c3-c00d-5c8d1b0679f0"
   },
   "outputs": [
    {
     "name": "stdout",
     "output_type": "stream",
     "text": [
      "Simulated Annealing cost on medium matrix: 570\n",
      "CPU times: user 21.3 ms, sys: 0 ns, total: 21.3 ms\n",
      "Wall time: 22.6 ms\n"
     ]
    }
   ],
   "source": [
    "%%time\n",
    "SA_result_medium = SimAnn.run(medium_matrix)\n",
    "print(\"Simulated Annealing cost on medium matrix:\", SA_result_medium[1])"
   ]
  },
  {
   "cell_type": "code",
   "execution_count": 53,
   "id": "LmVEyx2fQ6AN",
   "metadata": {
    "colab": {
     "base_uri": "https://localhost:8080/"
    },
    "id": "LmVEyx2fQ6AN",
    "outputId": "5364a4ff-df65-476a-b5b9-f91402f3995d"
   },
   "outputs": [
    {
     "name": "stdout",
     "output_type": "stream",
     "text": [
      "Tabu Seach cost on medium matrix: 469\n",
      "CPU times: user 59.7 s, sys: 101 ms, total: 59.8 s\n",
      "Wall time: 59.8 s\n"
     ]
    }
   ],
   "source": [
    "%%time\n",
    "TS_result_medium = TabuSearch.run(medium_matrix)\n",
    "print(\"Tabu Seach cost on medium matrix:\", TS_result_medium[1])"
   ]
  },
  {
   "cell_type": "markdown",
   "id": "xEitWHRYRF0X",
   "metadata": {
    "id": "xEitWHRYRF0X"
   },
   "source": [
    "### Results on Medium matrix:"
   ]
  },
  {
   "cell_type": "code",
   "execution_count": 104,
   "id": "hIlD_R70RA_Z",
   "metadata": {
    "colab": {
     "base_uri": "https://localhost:8080/",
     "height": 502
    },
    "id": "hIlD_R70RA_Z",
    "outputId": "5af465d4-52e6-48f5-8d60-0148126cf213"
   },
   "outputs": [
    {
     "data": {
      "image/png": "[encoded data removed]",
      "text/plain": [
       "<Figure size 864x576 with 1 Axes>"
      ]
     },
     "metadata": {
      "needs_background": "light"
     },
     "output_type": "display_data"
    }
   ],
   "source": [
    "# set width of bar\n",
    "barWidth = 0.25\n",
    "fig = plt.subplots(figsize =(12, 8))\n",
    "\n",
    "medium_times = [0.0242, 0.0226, 59.8]\n",
    "br1 = np.arange(3)\n",
    "plt.bar(br1, medium_times, color ='g', width = barWidth,\n",
    "        edgecolor ='grey', label ='Medium Matrix')\n",
    "plt.xlabel('Algorithm', fontweight ='bold', fontsize = 15)\n",
    "plt.ylabel('Seconds', fontweight ='bold', fontsize = 15)\n",
    "plt.xticks([r for r in range(3)],\n",
    "        ['Hill Climbing', 'Simulated Annealing', 'Tabu Search'])\n",
    "plt.text(-0.07, 3, \"0.0242 s\")\n",
    "plt.text(0.93, 3, \"0.0226 s\")\n",
    "plt.text(1.95, 3, \"59.8 s\")\n",
    "\n",
    "plt.legend()\n",
    "plt.show()"
   ]
  },
  {
   "cell_type": "code",
   "execution_count": 106,
   "id": "N3leiY__RIlu",
   "metadata": {
    "colab": {
     "base_uri": "https://localhost:8080/",
     "height": 502
    },
    "id": "N3leiY__RIlu",
    "outputId": "021177ed-dc62-4e00-a956-6288cfaa59c8"
   },
   "outputs": [
    {
     "data": {
      "image/png": "[encoded data removed]",
      "text/plain": [
       "<Figure size 864x576 with 1 Axes>"
      ]
     },
     "metadata": {
      "needs_background": "light"
     },
     "output_type": "display_data"
    }
   ],
   "source": [
    "# set width of bar\n",
    "barWidth = 0.25\n",
    "fig = plt.subplots(figsize =(12, 8))\n",
    "\n",
    "medium_scores = [612, 570, 469]\n",
    "br1 = np.arange(3)\n",
    "plt.bar(br1, medium_scores, color ='g', width = barWidth,\n",
    "        edgecolor ='grey', label ='Medium Matrix')\n",
    "plt.xlabel('Algorithm', fontweight ='bold', fontsize = 15)\n",
    "plt.ylabel('Cost', fontweight ='bold', fontsize = 15)\n",
    "plt.xticks([r for r in range(3)],\n",
    "        ['Hill Climbing', 'Simulated Annealing', 'Tabu Search'])\n",
    "plt.text(-0.03, 5, \"612\")\n",
    "plt.text(0.97, 5, \"570\")\n",
    "plt.text(1.97, 5, \"469\")\n",
    "\n",
    "plt.legend()\n",
    "plt.show()"
   ]
  },
  {
   "cell_type": "markdown",
   "id": "B2XMwREJRJEz",
   "metadata": {
    "id": "B2XMwREJRJEz"
   },
   "source": [
    "## Running the three algorithms on the Large matrix:"
   ]
  },
  {
   "cell_type": "code",
   "execution_count": 60,
   "id": "8yM1V2QGRLnr",
   "metadata": {
    "colab": {
     "base_uri": "https://localhost:8080/"
    },
    "id": "8yM1V2QGRLnr",
    "outputId": "57b2ef74-314b-4642-ad4d-742cf7b1f886"
   },
   "outputs": [
    {
     "name": "stdout",
     "output_type": "stream",
     "text": [
      "Hill Climbing cost on large matrix: 1028\n",
      "CPU times: user 287 ms, sys: 2.99 ms, total: 290 ms\n",
      "Wall time: 292 ms\n"
     ]
    }
   ],
   "source": [
    "%%time\n",
    "HC_result_large = HillCimbing.run(large_matrix)\n",
    "print(\"Hill Climbing cost on large matrix:\", HC_result_large[1])"
   ]
  },
  {
   "cell_type": "code",
   "execution_count": 62,
   "id": "G0VON6BoRPkE",
   "metadata": {
    "colab": {
     "base_uri": "https://localhost:8080/"
    },
    "id": "G0VON6BoRPkE",
    "outputId": "a396f9fb-6419-452c-c5bb-4234bb17994f"
   },
   "outputs": [
    {
     "name": "stdout",
     "output_type": "stream",
     "text": [
      "Simulated Annealing cost on large matrix: 890\n",
      "CPU times: user 25.9 ms, sys: 2 ms, total: 27.9 ms\n",
      "Wall time: 29.9 ms\n"
     ]
    }
   ],
   "source": [
    "%%time\n",
    "SA_result_large = SimAnn.run(large_matrix)\n",
    "print(\"Simulated Annealing cost on large matrix:\", SA_result_large[1])"
   ]
  },
  {
   "cell_type": "code",
   "execution_count": 63,
   "id": "tFMEq3aSRU-Z",
   "metadata": {
    "colab": {
     "base_uri": "https://localhost:8080/"
    },
    "id": "tFMEq3aSRU-Z",
    "outputId": "c89cad1a-a717-4dcf-8db4-b201228e9818"
   },
   "outputs": [
    {
     "name": "stdout",
     "output_type": "stream",
     "text": [
      "Tabu Seach cost on large matrix: 672\n",
      "CPU times: user 4min 36s, sys: 427 ms, total: 4min 37s\n",
      "Wall time: 4min 37s\n"
     ]
    }
   ],
   "source": [
    "%%time\n",
    "TS_result_large = TabuSearch.run(large_matrix)\n",
    "print(\"Tabu Seach cost on large matrix:\", TS_result_large[1])"
   ]
  },
  {
   "cell_type": "markdown",
   "id": "X_RVj0jnlZRx",
   "metadata": {
    "id": "X_RVj0jnlZRx"
   },
   "source": [
    "### Large Matrix Results:"
   ]
  },
  {
   "cell_type": "code",
   "execution_count": 107,
   "id": "rQh7ekMPlbcG",
   "metadata": {
    "colab": {
     "base_uri": "https://localhost:8080/",
     "height": 502
    },
    "id": "rQh7ekMPlbcG",
    "outputId": "5115fd92-a581-4584-dae6-4eb6e1cf5bd6"
   },
   "outputs": [
    {
     "data": {
      "image/png": "[encoded data removed]",
      "text/plain": [
       "<Figure size 864x576 with 1 Axes>"
      ]
     },
     "metadata": {
      "needs_background": "light"
     },
     "output_type": "display_data"
    }
   ],
   "source": [
    "# set width of bar\n",
    "barWidth = 0.25\n",
    "fig = plt.subplots(figsize =(12, 8))\n",
    "\n",
    "large_times = [0.292, 0.0299, 277]\n",
    "br1 = np.arange(3)\n",
    "plt.bar(br1, large_times, color ='cyan', width = barWidth,\n",
    "        edgecolor ='grey', label ='Large Matrix')\n",
    "plt.xlabel('Algorithm', fontweight ='bold', fontsize = 15)\n",
    "plt.ylabel('Seconds', fontweight ='bold', fontsize = 15)\n",
    "plt.xticks([r for r in range(3)],\n",
    "        ['Hill Climbing', 'Simulated Annealing', 'Tabu Search'])\n",
    "plt.text(-0.07, 3, \"0.292 s\")\n",
    "plt.text(0.93, 3, \"0.0299 s\")\n",
    "plt.text(1.95, 3, \"277 s\")\n",
    "\n",
    "plt.legend()\n",
    "plt.show()"
   ]
  },
  {
   "cell_type": "code",
   "execution_count": 110,
   "id": "1NQQOPQklblJ",
   "metadata": {
    "colab": {
     "base_uri": "https://localhost:8080/",
     "height": 502
    },
    "id": "1NQQOPQklblJ",
    "outputId": "87355c7b-b790-40ee-b7a7-c5c3794fcbfe",
    "scrolled": false
   },
   "outputs": [
    {
     "data": {
      "image/png": "[encoded data removed]",
      "text/plain": [
       "<Figure size 864x576 with 1 Axes>"
      ]
     },
     "metadata": {
      "needs_background": "light"
     },
     "output_type": "display_data"
    }
   ],
   "source": [
    "# set width of bar\n",
    "barWidth = 0.25\n",
    "fig = plt.subplots(figsize =(12, 8))\n",
    "\n",
    "large_scores = [1028, 890, 672]\n",
    "br1 = np.arange(3)\n",
    "plt.bar(br1, large_scores, color ='cyan', width = barWidth,\n",
    "        edgecolor ='grey', label ='Large Matrix')\n",
    "plt.xlabel('Algorithm', fontweight ='bold', fontsize = 15)\n",
    "plt.ylabel('Cost', fontweight ='bold', fontsize = 15)\n",
    "plt.xticks([r for r in range(3)],\n",
    "        ['Hill Climbing', 'Simulated Annealing', 'Tabu Search'])\n",
    "plt.text(-0.05, 10, \"1028\")\n",
    "plt.text(0.97, 10, \"890\")\n",
    "plt.text(1.97, 10, \"672\")\n",
    "\n",
    "plt.legend()\n",
    "plt.show()"
   ]
  }
 ],
 "metadata": {
  "colab": {
   "collapsed_sections": [],
   "name": "Main.ipynb",
   "provenance": []
  },
  "kernelspec": {
   "display_name": "Python 3 (ipykernel)",
   "language": "python",
   "name": "python3"
  },
  "language_info": {
   "codemirror_mode": {
    "name": "ipython",
    "version": 3
   },
   "file_extension": ".py",
   "mimetype": "text/x-python",
   "name": "python",
   "nbconvert_exporter": "python",
   "pygments_lexer": "ipython3",
   "version": "3.7.9"
  }
 },
 "nbformat": 4,
 "nbformat_minor": 5
}
